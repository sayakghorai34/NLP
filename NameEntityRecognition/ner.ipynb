{
 "cells": [
  {
   "cell_type": "code",
   "execution_count": 1,
   "metadata": {},
   "outputs": [],
   "source": [
    "import spacy\n",
    "\n",
    "nlp = spacy.load(\"en_core_web_sm\")"
   ]
  },
  {
   "cell_type": "markdown",
   "metadata": {},
   "source": [
    "## Using nlp"
   ]
  },
  {
   "cell_type": "code",
   "execution_count": 2,
   "metadata": {},
   "outputs": [],
   "source": [
    "text = \"Apple Inc. was founded by Steve Jobs in Cupertino, California. Mr.Ratan Tata is a Indian businessman. Elon Musk is the CEO of Tesla. Apple Inc. has a market capitalization of $1 trillion.IPhone is a robust device. Indian economy is falling day by day due to poor management and propagandas\""
   ]
  },
  {
   "cell_type": "code",
   "execution_count": 3,
   "metadata": {},
   "outputs": [],
   "source": [
    "class_3 = [\"PERSON\", \"ORG\", \"GPE\"]\n",
    "class_4 = [\"PERSON\", \"ORG\", \"GPE\", \"MISC\"]\n",
    "class_7 = [\"PERSON\", \"NORP\", \"FAC\", \"ORG\", \"GPE\", \"MONEY\", \"PRODUCT\"]"
   ]
  },
  {
   "cell_type": "code",
   "execution_count": 4,
   "metadata": {},
   "outputs": [],
   "source": [
    "def ner_with_class(text, classes):\n",
    "    doc = nlp(text)\n",
    "\n",
    "    for ent in doc.ents:\n",
    "        if classes == class_4:\n",
    "            if ent.label_ in classes:\n",
    "                print(f\"Entity: {ent.text}, Class: {ent.label_}\")\n",
    "            else:\n",
    "                print(f\"Entity: {ent.text}, Class: MISC\")\n",
    "        else:\n",
    "            if ent.label_ in classes:\n",
    "                print(f\"Entity: {ent.text}, Class: {ent.label_}\")\n"
   ]
  },
  {
   "cell_type": "code",
   "execution_count": 5,
   "metadata": {},
   "outputs": [
    {
     "name": "stdout",
     "output_type": "stream",
     "text": [
      "3-class Method:\n",
      "Entity: Apple Inc., Class: ORG\n",
      "Entity: Steve Jobs, Class: PERSON\n",
      "Entity: Cupertino, Class: GPE\n",
      "Entity: California, Class: GPE\n",
      "Entity: Ratan Tata, Class: PERSON\n",
      "Entity: Elon Musk, Class: PERSON\n",
      "Entity: Tesla, Class: ORG\n",
      "Entity: Apple Inc., Class: ORG\n",
      "\n",
      "4-class Method:\n",
      "Entity: Apple Inc., Class: ORG\n",
      "Entity: Steve Jobs, Class: PERSON\n",
      "Entity: Cupertino, Class: GPE\n",
      "Entity: California, Class: GPE\n",
      "Entity: Ratan Tata, Class: PERSON\n",
      "Entity: Indian, Class: MISC\n",
      "Entity: Elon Musk, Class: PERSON\n",
      "Entity: Tesla, Class: ORG\n",
      "Entity: Apple Inc., Class: ORG\n",
      "Entity: $1 trillion, Class: MISC\n",
      "Entity: Indian, Class: MISC\n",
      "\n",
      "7-class Method:\n",
      "Entity: Apple Inc., Class: ORG\n",
      "Entity: Steve Jobs, Class: PERSON\n",
      "Entity: Cupertino, Class: GPE\n",
      "Entity: California, Class: GPE\n",
      "Entity: Ratan Tata, Class: PERSON\n",
      "Entity: Indian, Class: NORP\n",
      "Entity: Elon Musk, Class: PERSON\n",
      "Entity: Tesla, Class: ORG\n",
      "Entity: Apple Inc., Class: ORG\n",
      "Entity: $1 trillion, Class: MONEY\n",
      "Entity: Indian, Class: NORP\n"
     ]
    }
   ],
   "source": [
    "print(\"3-class Method:\")\n",
    "ner_with_class(text, class_3)\n",
    "\n",
    "print(\"\\n4-class Method:\")\n",
    "ner_with_class(text, class_4)\n",
    "\n",
    "print(\"\\n7-class Method:\")\n",
    "ner_with_class(text, class_7)"
   ]
  },
  {
   "cell_type": "markdown",
   "metadata": {},
   "source": [
    "## With using Spacy"
   ]
  },
  {
   "cell_type": "code",
   "execution_count": 6,
   "metadata": {},
   "outputs": [],
   "source": [
    "text = \"Apple Inc. was founded by Steve Jobs in Cupertino, California. Mr.Ratan Tata is a Indian businessman. Elon Musk is the CEO of Tesla. Apple Inc. has a market capitalization of $1 trillion.IPhone is a robust device. Indian economy is falling day by day due to poor management and propagandas\""
   ]
  },
  {
   "cell_type": "code",
   "execution_count": 7,
   "metadata": {},
   "outputs": [
    {
     "name": "stdout",
     "output_type": "stream",
     "text": [
      "Entity: Apple Inc., Class: ORG\n",
      "Entity: Steve Jobs, Class: PERSON\n",
      "Entity: Cupertino, Class: GPE\n",
      "Entity: California, Class: GPE\n",
      "Entity: Ratan Tata, Class: PERSON\n",
      "Entity: Indian, Class: NORP\n",
      "Entity: Elon Musk, Class: PERSON\n",
      "Entity: Tesla, Class: ORG\n",
      "Entity: Apple Inc., Class: ORG\n",
      "Entity: $1 trillion, Class: MONEY\n",
      "Entity: Indian, Class: NORP\n"
     ]
    }
   ],
   "source": [
    "entity_dict = {}\n",
    "spacyModel = spacy.load(\"en_core_web_sm\")\n",
    "doc = spacyModel(text)\n",
    "for ent in doc.ents:\n",
    "    print(f\"Entity: {ent.text}, Class: {ent.label_}\")\n",
    "    # entity_dict[ent.text] = ent.label_"
   ]
  }
 ],
 "metadata": {
  "kernelspec": {
   "display_name": "Python 3",
   "language": "python",
   "name": "python3"
  },
  "language_info": {
   "codemirror_mode": {
    "name": "ipython",
    "version": 3
   },
   "file_extension": ".py",
   "mimetype": "text/x-python",
   "name": "python",
   "nbconvert_exporter": "python",
   "pygments_lexer": "ipython3",
   "version": "3.11.8"
  }
 },
 "nbformat": 4,
 "nbformat_minor": 2
}
