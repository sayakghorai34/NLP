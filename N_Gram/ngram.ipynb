{
 "cells": [
  {
   "cell_type": "code",
   "execution_count": 62,
   "metadata": {},
   "outputs": [
    {
     "name": "stderr",
     "output_type": "stream",
     "text": [
      "[nltk_data] Downloading package punkt to\n",
      "[nltk_data]     /Users/sayakghorai/nltk_data...\n",
      "[nltk_data]   Package punkt is already up-to-date!\n"
     ]
    }
   ],
   "source": [
    "import nltk\n",
    "import string\n",
    "from nltk.util import ngrams\n",
    "nltk.download('punkt')\n",
    "from nltk.tokenize import RegexpTokenizer"
   ]
  },
  {
   "cell_type": "code",
   "execution_count": 63,
   "metadata": {},
   "outputs": [
    {
     "ename": "NameError",
     "evalue": "name 'tokens' is not defined",
     "output_type": "error",
     "traceback": [
      "\u001b[0;31m---------------------------------------------------------------------------\u001b[0m",
      "\u001b[0;31mNameError\u001b[0m                                 Traceback (most recent call last)",
      "\u001b[0;32m/var/folders/vg/xkgpp1wn7xq_0n_h3054ds0m0000gn/T/ipykernel_117/3666291095.py\u001b[0m in \u001b[0;36m<module>\u001b[0;34m\u001b[0m\n\u001b[0;32m----> 1\u001b[0;31m \u001b[0mbigrams\u001b[0m \u001b[0;34m=\u001b[0m \u001b[0mnltk\u001b[0m\u001b[0;34m.\u001b[0m\u001b[0mFreqDist\u001b[0m\u001b[0;34m(\u001b[0m\u001b[0mngrams\u001b[0m\u001b[0;34m(\u001b[0m\u001b[0mtokens\u001b[0m\u001b[0;34m,\u001b[0m \u001b[0;36m2\u001b[0m\u001b[0;34m)\u001b[0m\u001b[0;34m)\u001b[0m\u001b[0;34m\u001b[0m\u001b[0;34m\u001b[0m\u001b[0m\n\u001b[0m",
      "\u001b[0;31mNameError\u001b[0m: name 'tokens' is not defined"
     ]
    }
   ],
   "source": [
    "bigrams = nltk.FreqDist(ngrams(tokens, 2))"
   ]
  },
  {
   "cell_type": "code",
   "execution_count": null,
   "metadata": {},
   "outputs": [],
   "source": [
    "def create_bigram_matrix(bigrams, tokens):\n",
    "    matrix = np.zeros((len(tokens), len(tokens)))\n",
    "    token_index = {token: i for i, token in enumerate(tokens)}\n",
    "\n",
    "    for bigram, count in bigrams.items():\n",
    "        i = token_index[bigram[0]]\n",
    "        j = token_index[bigram[1]]\n",
    "        matrix[i, j] = count\n",
    "\n",
    "    return matrix"
   ]
  },
  {
   "cell_type": "code",
   "execution_count": null,
   "metadata": {},
   "outputs": [],
   "source": [
    "train_corpus = \"Hello There! How are You? I am fine. How about you? I am also fine. Thank you!\\\n",
    "        He is a good boy. His skills are amazing! Hope his feet are on the ground.\\\n",
    "        He will go very far then!\\\n",
    "        I am sure about that. He is not very sure though. He is a bit confused.\"\n",
    "\n",
    "test_corpus = \"Hello There! you are a good boy. you will go far. You look bit confused.\""
   ]
  },
  {
   "cell_type": "code",
   "execution_count": null,
   "metadata": {},
   "outputs": [],
   "source": []
  },
  {
   "cell_type": "code",
   "execution_count": null,
   "metadata": {},
   "outputs": [
    {
     "name": "stdout",
     "output_type": "stream",
     "text": [
      "Count of unigram in train:\n",
      "{('I',): 4, ('a',): 9, ('m',): 3, ('s',): 6, ('y',): 3, ('k',): 1, ('t',): 4, ('u',): 1, ('d',): 3, ('e',): 4, ('n',): 4}\n",
      "Count of bigram in train:\n",
      "{('I', 'a'): 3, ('a', 'm'): 3, ('m', 's'): 1, ('s', 'a'): 2, ('a', 'y'): 2, ('y', 'a'): 1, ('a', 'k'): 1, ('k', 'I'): 1, ('m', 'a'): 1, ('a', 's'): 1, ('s', 't'): 2, ('t', 'u'): 1, ('u', 'd'): 1, ('d', 'e'): 1, ('e', 'n'): 2, ('n', 't'): 2, ('t', 'T'): 1, ('T', 'o'): 1, ('o', 'd'): 1, ('d', 'a'): 1, ('y', 'I'): 2, ('m', 'f'): 1, ('f', 'e'): 1, ('e', 'e'): 1, ('e', 'l'): 1, ('l', 'i'): 2, ('i', 'n'): 1, ('n', 'g'): 2, ('g', 'h'): 1, ('h', 'a'): 1, ('a', 'p'): 1, ('p', 'p'): 1, ('p', 'y'): 1, ('I', 'l'): 1, ('i', 's'): 1}\n",
      "\n",
      "\n",
      "List of bigrams:\n",
      "\n",
      "('I', 'I')\n",
      "('I', 'm')\n",
      "('I', 'feeling')\n",
      "('I', 'quite')\n",
      "('I', 'sad')\n",
      "('m', 'I')\n",
      "('m', 'm')\n",
      "('m', 'feeling')\n",
      "('m', 'quite')\n",
      "('m', 'sad')\n",
      "('feeling', 'I')\n",
      "('feeling', 'm')\n",
      "('feeling', 'feeling')\n",
      "('feeling', 'quite')\n",
      "('feeling', 'sad')\n",
      "('quite', 'I')\n",
      "('quite', 'm')\n",
      "('quite', 'feeling')\n",
      "('quite', 'quite')\n",
      "('quite', 'sad')\n",
      "('sad', 'I')\n",
      "('sad', 'm')\n",
      "('sad', 'feeling')\n",
      "('sad', 'quite')\n",
      "('sad', 'sad')\n",
      "\n",
      "\n",
      "Adjacency Matrix:\n",
      "\n",
      "[0, 0, 0, 0, 0]\n",
      "[0, 0, 0, 0, 0]\n",
      "[0, 0, 0, 0, 0]\n",
      "[0, 0, 0, 0, 0]\n",
      "[0, 0, 0, 0, 0]\n"
     ]
    }
   ],
   "source": [
    "pattern = r'\\b[^\\d\\W.,!?]+\\b'\n",
    "tokenizer = RegexpTokenizer(pattern)\n",
    "\n",
    "# Example usage\n",
    "text = \"I am sayak. I am a student. To day I am feeling happy. I listen to sad songs\"\n",
    "text_full = []\n",
    "# print(text)\n",
    "for i in text:\n",
    "  text_without_punctuation = tokenizer.tokenize(i)\n",
    "  text_full.extend(text_without_punctuation)\n",
    "# print(text_full)\n",
    "\n",
    "n_grams_2 = (list(ngrams(text_full, 2)))\n",
    "n_grams_1 = (list(ngrams(text_full, 1)))\n",
    "probabilities_1 = {}\n",
    "\n",
    "for i in range(len(list(set(n_grams_1)))):\n",
    "  probabilities_1[n_grams_1[i]] = n_grams_1.count(n_grams_1[i])\n",
    "\n",
    "print(\"Count of unigram in train:\")\n",
    "print(probabilities_1)\n",
    "\n",
    "probabilities_2 = {}\n",
    "for i in range(len(list(set(n_grams_2)))):\n",
    "  probabilities_2[n_grams_2[i]] = n_grams_2.count(n_grams_2[i])\n",
    "\n",
    "print(\"Count of bigram in train:\")\n",
    "print(probabilities_2)\n",
    "\n",
    "random_sentence_1 = list(ngrams(tokenizer.tokenize(\"I'm feeling quite sad\"), 1))\n",
    "random_sentence_2 = list(ngrams(tokenizer.tokenize(\"I'm feeling quite sad\"), 2))\n",
    "\n",
    "# Bigram Adjacency Matrix\n",
    "print(\"\\n\\nList of bigrams:\\n\")\n",
    "adjacency = []\n",
    "for i in range(len(random_sentence_1)):\n",
    "  row = []\n",
    "  for j in range(len(random_sentence_1)):\n",
    "    try:\n",
    "      print((random_sentence_1[i][0], (random_sentence_1[j])[0]))\n",
    "      if (probabilities_2[(random_sentence_1[i][0], (random_sentence_1[j])[0])]):\n",
    "        row.append(probabilities_2[(random_sentence_1[i][0], (random_sentence_1[j])[0])])\n",
    "    except KeyError:\n",
    "      row.append(0)\n",
    "  adjacency.append(row)\n",
    "\n",
    "print(\"\\n\\nAdjacency Matrix:\\n\")\n",
    "print(*adjacency, sep=\"\\n\")"
   ]
  }
 ],
 "metadata": {
  "kernelspec": {
   "display_name": "Python 3",
   "language": "python",
   "name": "python3"
  },
  "language_info": {
   "codemirror_mode": {
    "name": "ipython",
    "version": 3
   },
   "file_extension": ".py",
   "mimetype": "text/x-python",
   "name": "python",
   "nbconvert_exporter": "python",
   "pygments_lexer": "ipython3",
   "version": "3.9.7"
  }
 },
 "nbformat": 4,
 "nbformat_minor": 2
}
