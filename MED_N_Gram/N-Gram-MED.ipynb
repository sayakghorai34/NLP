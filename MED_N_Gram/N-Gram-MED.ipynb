{
 "cells": [
  {
   "cell_type": "code",
   "execution_count": 89,
   "metadata": {},
   "outputs": [],
   "source": [
    "from nltk import bigrams, trigrams\n",
    "from collections import Counter\n",
    "import numpy as np"
   ]
  },
  {
   "cell_type": "code",
   "execution_count": 90,
   "metadata": {},
   "outputs": [],
   "source": [
    "words_list = [\n",
    "    \"apple\", \"all\", \"about\", \"after\", \"away\", \"again\", \"any\", \"always\", \"ask\", \"also\",\n",
    "    \"before\", \"because\", \"believe\", \"best\", \"both\", \"back\", \"big\",\n",
    "    \"can\", \"come\", \"could\", \"call\", \"country\", \"children\", \"change\", \"city\", \"case\", \"company\",\n",
    "    \"do\", \"down\", \"day\", \"different\", \"don't\", \"find\", \"first\", \"friend\", \"from\", \"good\",\n",
    "    \"even\", \"every\", \"enough\", \"end\", \"ever\", \"education\", \"environment\", \"experience\", \"economy\", \n",
    "    \"example\",\"exam\",\"examine\",\"examinee\",\"examination\",\"examiner\",\"examine\",\"examiner\",\n",
    "    \"for\", \"from\", \"find\", \"family\", \"friend\", \"food\", \"follow\", \"form\", \"few\", \"future\",\n",
    "    \"get\", \"give\", \"good\", \"great\", \"government\", \"group\", \"general\", \"grow\", \"game\",\n",
    "    \"have\", \"he\", \"his\", \"her\", \"how\", \"here\", \"help\", \"home\", \"health\", \"high\",\n",
    "    \"into\", \"its\", \"information\", \"international\", \"important\",\n",
    "    \"just\", \"join\", \"job\", \"journey\", \"jump\", \"joke\", \"junior\", \"jacket\", \"jam\", \"jet\",\n",
    "    \"know\", \"kind\", \"keep\", \"key\", \"king\", \"kill\", \"kitchen\", \"kid\", \"kiss\", \"keep\",\n",
    "    \"love\", \"like\", \"life\", \"little\", \"long\", \"look\", \"last\", \"leave\", \"learn\", \"large\",\n",
    "    \"my\", \"me\", \"more\", \"make\", \"much\", \"most\", \"may\", \"must\", \"many\", \"mean\",\n",
    "    \"not\", \"now\", \"new\", \"never\", \"know\", \"need\", \"number\", \"name\", \"night\",\n",
    "    \"our\", \"other\", \"out\", \"over\", \"one\", \"own\", \"old\",\n",
    "    \"people\", \"place\", \"play\", \"public\", \"power\", \"point\", \"part\", \"pay\", \"problem\", \"program\",\n",
    "    \"question\", \"quite\", \"quick\", \"quality\", \"quit\", \"quarter\", \"queen\", \"quiz\", \"quiet\", \"quote\",\n",
    "    \"read\", \"right\", \"run\", \"room\", \"really\", \"reason\", \"reach\", \"remember\", \"research\", \"result\",\n",
    "    \"she\", \"so\", \"some\", \"say\", \"see\", \"same\", \"set\", \"show\", \"since\", \"small\",\n",
    "    \"time\", \"take\", \"think\", \"two\", \"their\", \"them\", \"there\", \"then\", \"these\", \"thing\",\n",
    "    \"use\", \"under\", \"until\", \"university\", \"United States\", \"usually\",\"understand\", \"upon\",\n",
    "    \"very\", \"view\", \"value\", \"visit\", \"vote\", \"voice\", \"visit\", \"vacation\", \"vehicle\", \"victory\",\n",
    "    \"we\", \"what\", \"when\", \"where\", \"why\", \"who\", \"with\", \"work\", \"would\", \"water\",\n",
    "    \"you\", \"your\", \"yes\", \"year\", \"young\", \"yet\", \"yellow\", \"yesterday\", \"yield\", \"yogurt\",\n",
    "    \"zero\", \"zoo\", \"zone\", \"zipper\", \"zigzag\", \"zoom\", \"zenith\", \"zombie\", \"zone\",\n",
    "    \"able\", \"away\", \"also\", \"best\", \"both\", \"back\", \"call\", \"case\", \"come\", \"city\",\n",
    "    \"down\", \"each\", \"even\", \"ever\", \"find\", \"form\", \"free\", \"full\", \"good\", \"high\",\n",
    "    \"home\", \"hour\", \"idea\", \"just\", \"keep\", \"last\", \"life\", \"long\", \"look\", \"make\",\n",
    "    \"many\", \"mind\", \"more\", \"most\", \"much\", \"must\", \"name\", \"need\", \"next\", \"once\",\n",
    "    \"only\", \"open\", \"over\", \"part\", \"play\", \"read\", \"real\", \"room\", \"same\", \"seem\",\n",
    "    \"show\", \"side\", \"such\", \"take\", \"tell\", \"than\", \"that\", \"them\", \"then\", \"there\",\n",
    "    \"these\", \"they\", \"this\", \"time\", \"very\", \"want\", \"well\", \"what\", \"when\", \"will\",\n",
    "    \"with\", \"work\", \"year\", \"your\", \"young\", \"zero\", \"zone\"\n",
    "]\n"
   ]
  },
  {
   "cell_type": "code",
   "execution_count": 91,
   "metadata": {},
   "outputs": [],
   "source": [
    "def generate_bigrams(word):\n",
    "    return [word[i:i+2] for i in range(len(word) - 1)]\n",
    "\n",
    "def generate_trigrams(word):\n",
    "    return [word[i:i+3] for i in range(len(word) - 2)]"
   ]
  },
  {
   "cell_type": "code",
   "execution_count": 92,
   "metadata": {},
   "outputs": [
    {
     "name": "stdout",
     "output_type": "stream",
     "text": [
      "Misspelled word bigram count: 11\n",
      "Misspelled word trigrams count: 10\n",
      "\n",
      "Top 10 matching words based on bigrams:\n",
      "{'examination': 8, 'international': 5, 'education': 3, 'examine': 3, 'examinee': 3, 'examiner': 3, 'information': 3, 'vacation': 3, 'example': 2, 'exam': 2}\n",
      "\n",
      "Top 10 matching words based on trigrams:\n",
      "{'examination': 4, 'international': 2, 'education': 1, 'examine': 1, 'examinee': 1, 'examiner': 1, 'information': 1, 'vacation': 1, 'apple': 0, 'all': 0}\n"
     ]
    }
   ],
   "source": [
    "from collections import Counter\n",
    "\n",
    "def find_similar_words(misspelled_word, words_list):\n",
    "    misspelled_bigrams = generate_bigrams(misspelled_word.lower())\n",
    "    misspelled_trigrams = generate_trigrams(misspelled_word.lower())\n",
    "\n",
    "    misspelled_bigrams_count = Counter(misspelled_bigrams)\n",
    "    misspelled_trigrams_count = Counter(misspelled_trigrams)\n",
    "\n",
    "    bigram_matches = {}\n",
    "    trigram_matches = {}\n",
    "\n",
    "    for word in words_list:\n",
    "        word_bigrams = generate_bigrams(word.lower())\n",
    "        word_trigrams = generate_trigrams(word.lower())\n",
    "\n",
    "        common_bigrams = []\n",
    "        for i in range(len(misspelled_bigrams) - 1):\n",
    "            if misspelled_bigrams[i] in word_bigrams and misspelled_bigrams[i+1] in word_bigrams:\n",
    "                common_bigrams.append(misspelled_bigrams[i] + misspelled_bigrams[i+1])\n",
    "\n",
    "        common_trigrams = []\n",
    "        for i in range(len(misspelled_trigrams) - 2):\n",
    "            if misspelled_trigrams[i] in word_trigrams and misspelled_trigrams[i+1] in word_trigrams and misspelled_trigrams[i+2] in word_trigrams:\n",
    "                common_trigrams.append(misspelled_trigrams[i] + misspelled_trigrams[i+1] + misspelled_trigrams[i+2])\n",
    "\n",
    "        bigram_matches[word] = len(common_bigrams)\n",
    "        trigram_matches[word] = len(common_trigrams)\n",
    "\n",
    "    sorted_bigrams = dict(sorted(bigram_matches.items(), key=lambda item: item[1], reverse=True)[:10])\n",
    "    sorted_trigrams = dict(sorted(trigram_matches.items(), key=lambda item: item[1], reverse=True)[:10])\n",
    "\n",
    "    return misspelled_bigrams_count, misspelled_trigrams_count, sorted_bigrams, sorted_trigrams\n",
    "\n",
    "misspelled_word = \"examiination\"\n",
    "\n",
    "misspelled_bigrams, misspelled_trigrams, similar_words_bigrams, similar_words_trigrams = find_similar_words(misspelled_word, words_list)\n",
    "print(\"Misspelled word bigram count:\", len(misspelled_bigrams))\n",
    "print(\"Misspelled word trigrams count:\", len(misspelled_trigrams))\n",
    "print(\"\\nTop 10 matching words based on bigrams:\")\n",
    "print(similar_words_bigrams)\n",
    "print(\"\\nTop 10 matching words based on trigrams:\")\n",
    "print(similar_words_trigrams)\n"
   ]
  },
  {
   "cell_type": "code",
   "execution_count": 93,
   "metadata": {},
   "outputs": [],
   "source": [
    "def calculate_edit_distance(word1, word2):\n",
    "    if len(word1) < len(word2):\n",
    "        return calculate_edit_distance(word2, word1)\n",
    "    if len(word2) == 0:\n",
    "        return len(word1)\n",
    "\n",
    "    p_row = range(len(word2) + 1)\n",
    "    for i, char1 in enumerate(word1):\n",
    "        current_row = [i + 1]\n",
    "        for j, char2 in enumerate(word2):\n",
    "            insertions = p_row[j + 1] + 1\n",
    "            deletions = current_row[j] + 1\n",
    "            substitutions = p_row[j] + (char1 != char2)\n",
    "            if i > 0 and j > 0 and word1[i] == word2[j-1] and word1[i-1] == word2[j]:\n",
    "                transposition = p_row[j-1] + 1\n",
    "                current_row.append(min(insertions, deletions, substitutions, transposition))\n",
    "            else:\n",
    "                current_row.append(min(insertions, deletions, substitutions))\n",
    "        p_row = current_row\n",
    "\n",
    "    return p_row[-1]"
   ]
  },
  {
   "cell_type": "code",
   "execution_count": 94,
   "metadata": {},
   "outputs": [
    {
     "name": "stdout",
     "output_type": "stream",
     "text": [
      "Sorted based on edit distance:\n",
      "Edit distance between examiination and examination is 1\n",
      "Edit distance between examiination and education is 6\n",
      "Edit distance between examiination and examine is 6\n",
      "Edit distance between examiination and examiner is 6\n",
      "Edit distance between examiination and vacation is 6\n",
      "Edit distance between examiination and examinee is 6\n",
      "Edit distance between examiination and information is 7\n",
      "Edit distance between examiination and international is 8\n",
      "Edit distance between examiination and exam is 8\n",
      "Edit distance between examiination and example is 8\n",
      "Edit distance between examiination and apple is 11\n",
      "Edit distance between examiination and all is 11\n"
     ]
    }
   ],
   "source": [
    "suggested_words = set(similar_words_bigrams.keys()) | set(similar_words_trigrams.keys())\n",
    "\n",
    "edit_distance_dict = {}\n",
    "for word in suggested_words:\n",
    "    edit_distance_dict[word] = calculate_edit_distance(misspelled_word, word)\n",
    "\n",
    "sorted_edit_distance = dict(sorted(edit_distance_dict.items(), key=lambda item: item[1]))\n",
    "\n",
    "print(\"Sorted based on edit distance:\")\n",
    "for word, distance in sorted_edit_distance.items():\n",
    "    print(f\"Edit distance between {misspelled_word} and {word} is {distance}\")"
   ]
  }
 ],
 "metadata": {
  "kernelspec": {
   "display_name": "Python 3",
   "language": "python",
   "name": "python3"
  },
  "language_info": {
   "codemirror_mode": {
    "name": "ipython",
    "version": 3
   },
   "file_extension": ".py",
   "mimetype": "text/x-python",
   "name": "python",
   "nbconvert_exporter": "python",
   "pygments_lexer": "ipython3",
   "version": "3.9.7"
  }
 },
 "nbformat": 4,
 "nbformat_minor": 2
}
