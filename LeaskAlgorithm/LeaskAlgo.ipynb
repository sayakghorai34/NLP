{
 "cells": [
  {
   "cell_type": "markdown",
   "metadata": {},
   "source": [
    "### Download the necessary nltk packages"
   ]
  },
  {
   "cell_type": "code",
   "execution_count": 1,
   "metadata": {},
   "outputs": [],
   "source": [
    "# import ssl\n",
    "# #disable ssl certificate verification\n",
    "# ssl._create_default_https_context = ssl._create_unverified_context"
   ]
  },
  {
   "cell_type": "code",
   "execution_count": 2,
   "metadata": {},
   "outputs": [],
   "source": [
    "# import nltk\n",
    "# nltk.download('wordnet')"
   ]
  },
  {
   "cell_type": "markdown",
   "metadata": {},
   "source": [
    "# Part 1"
   ]
  },
  {
   "cell_type": "code",
   "execution_count": 3,
   "metadata": {},
   "outputs": [],
   "source": [
    "# from nltk.corpus import wordnet as wn\n",
    "from nltk.wsd import lesk   #Wordnet is already there in the Leask Algorithm Library\n",
    "from nltk.tokenize import word_tokenize"
   ]
  },
  {
   "cell_type": "code",
   "execution_count": 4,
   "metadata": {},
   "outputs": [],
   "source": [
    "def lesk_algorithm(sentence, ambiguous_word):\n",
    "    # Tokenize i/p sentence\n",
    "    tokens = word_tokenize(sentence.lower())\n",
    "\n",
    "    best_sense = lesk(tokens, ambiguous_word)\n",
    "\n",
    "    if best_sense is not None:\n",
    "        return best_sense, best_sense.definition()\n",
    "    else:\n",
    "        return None, \"No suitable sense found.\""
   ]
  },
  {
   "cell_type": "code",
   "execution_count": 5,
   "metadata": {},
   "outputs": [],
   "source": [
    "def get_result(sentence, ambiguous_word):\n",
    "    best_sense, definition = lesk_algorithm(sentence, ambiguous_word)\n",
    "\n",
    "    if best_sense:\n",
    "        print(f\"Ambiguous word: {ambiguous_word}\")\n",
    "        print(f\"Best sense: {best_sense}\")\n",
    "        print(f\"Definition: {definition}\")\n",
    "    else:\n",
    "        print(\"No suitable sense found.\")"
   ]
  },
  {
   "cell_type": "code",
   "execution_count": 6,
   "metadata": {},
   "outputs": [
    {
     "name": "stdout",
     "output_type": "stream",
     "text": [
      "Ambiguous word: bank\n",
      "Best sense: Synset('savings_bank.n.02')\n",
      "Definition: a container (usually with a slot in the top) for keeping money at home\n"
     ]
    }
   ],
   "source": [
    "sentence = \"He went to the bank to deposit his money.\"\n",
    "ambiguous_word = \"bank\"\n",
    "get_result(sentence, ambiguous_word)"
   ]
  },
  {
   "cell_type": "code",
   "execution_count": 7,
   "metadata": {},
   "outputs": [
    {
     "name": "stdout",
     "output_type": "stream",
     "text": [
      "Ambiguous word: bank\n",
      "Best sense: Synset('bank.v.07')\n",
      "Definition: cover with ashes so to control the rate of burning\n"
     ]
    }
   ],
   "source": [
    "sentence = \"The river bank was full of dead fishes.\"\n",
    "ambiguous_word = \"bank\"\n",
    "get_result(sentence, ambiguous_word)"
   ]
  },
  {
   "cell_type": "markdown",
   "metadata": {},
   "source": [
    "### The Results are not that accurate. We can improve the accuracy by using another approach in the next Part(Part 2)"
   ]
  },
  {
   "cell_type": "markdown",
   "metadata": {},
   "source": [
    "# Part 2"
   ]
  },
  {
   "cell_type": "code",
   "execution_count": 8,
   "metadata": {},
   "outputs": [],
   "source": [
    "from nltk.corpus import wordnet as wn\n",
    "from nltk.tokenize import word_tokenize"
   ]
  },
  {
   "cell_type": "code",
   "execution_count": 9,
   "metadata": {},
   "outputs": [],
   "source": [
    "def get_context(sentence, ambiguous_word):\n",
    "    tokens = word_tokenize(sentence.lower())\n",
    "    context = set(tokens)\n",
    "    context.discard(ambiguous_word.lower())\n",
    "    return context\n",
    "\n",
    "def lesk_algorithm(sentence, ambiguous_word):\n",
    "    # Get the context from i/p\n",
    "    context = get_context(sentence, ambiguous_word)\n",
    "    \n",
    "    #count overlap for best match\n",
    "    best_sense = None\n",
    "    max_overlap = 0\n",
    "    for synset in wn.synsets(ambiguous_word):\n",
    "        # Tokenize the i/p sentence and get defination of the synset\n",
    "        sentence_tokens = word_tokenize(synset.definition().lower())\n",
    "\n",
    "        # Calculate the overlap between the context and the sentence tokens\n",
    "        overlap = len(context.intersection(set(sentence_tokens)))\n",
    "\n",
    "        # Update the best sense if the current overlap is higher\n",
    "        if overlap > max_overlap:\n",
    "            max_overlap = overlap\n",
    "            best_sense = synset\n",
    "\n",
    "    if best_sense is not None:\n",
    "        return best_sense, best_sense.definition()\n",
    "    return None, \"No suitable sense found.\""
   ]
  },
  {
   "cell_type": "code",
   "execution_count": 10,
   "metadata": {},
   "outputs": [],
   "source": [
    "def get_result(sentence, ambiguous_word):\n",
    "    best_sense, definition = lesk_algorithm(sentence, ambiguous_word)\n",
    "\n",
    "    if best_sense:\n",
    "        print(f\"Ambiguous word: {ambiguous_word}\")\n",
    "        print(f\"Best sense: {best_sense}\")\n",
    "        print(f\"Definition: {definition}\")\n",
    "    else:\n",
    "        print(\"No suitable sense found.\")"
   ]
  },
  {
   "cell_type": "code",
   "execution_count": 11,
   "metadata": {},
   "outputs": [
    {
     "name": "stdout",
     "output_type": "stream",
     "text": [
      "Ambiguous word: bank\n",
      "Best sense: Synset('depository_financial_institution.n.01')\n",
      "Definition: a financial institution that accepts deposits and channels the money into lending activities\n"
     ]
    }
   ],
   "source": [
    "sentence = \"He went to the bank to deposit his money.\"\n",
    "ambiguous_word = \"bank\"\n",
    "get_result(sentence, ambiguous_word)"
   ]
  },
  {
   "cell_type": "code",
   "execution_count": 12,
   "metadata": {},
   "outputs": [
    {
     "name": "stdout",
     "output_type": "stream",
     "text": [
      "Ambiguous word: bank\n",
      "Best sense: Synset('bank.n.01')\n",
      "Definition: sloping land (especially the slope beside a body of water)\n"
     ]
    }
   ],
   "source": [
    "sentence = \"The river bank was full of dead fishes.\"\n",
    "ambiguous_word = \"bank\"\n",
    "get_result(sentence, ambiguous_word)"
   ]
  },
  {
   "cell_type": "markdown",
   "metadata": {},
   "source": [
    "### We can see, that the accuracy is improved by using the approach in Part 2. We have used the overlapping between the context and wordnet synsets to improve the accuracy."
   ]
  },
  {
   "cell_type": "code",
   "execution_count": 13,
   "metadata": {},
   "outputs": [
    {
     "name": "stdout",
     "output_type": "stream",
     "text": [
      "[NbConvertApp] Converting notebook LeaskAlgo.ipynb to html\n",
      "[NbConvertApp] Writing 292275 bytes to LeaskAlgo.html\n"
     ]
    }
   ],
   "source": [
    "!jupyter nbconvert --to html LeaskAlgo.ipynb"
   ]
  }
 ],
 "metadata": {
  "kernelspec": {
   "display_name": "Python 3",
   "language": "python",
   "name": "python3"
  },
  "language_info": {
   "codemirror_mode": {
    "name": "ipython",
    "version": 3
   },
   "file_extension": ".py",
   "mimetype": "text/x-python",
   "name": "python",
   "nbconvert_exporter": "python",
   "pygments_lexer": "ipython3",
   "version": "3.11.8"
  }
 },
 "nbformat": 4,
 "nbformat_minor": 2
}
